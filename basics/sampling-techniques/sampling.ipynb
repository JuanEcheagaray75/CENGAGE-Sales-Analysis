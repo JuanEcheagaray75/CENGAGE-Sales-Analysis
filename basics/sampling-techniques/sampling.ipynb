{
 "cells": [
  {
   "cell_type": "markdown",
   "metadata": {},
   "source": [
    "# Introducción a técnicas de muestreo\n",
    "---\n",
    "\n",
    "- Análisis de ciencias de datos\n",
    "- Grupo 100\n",
    "- Profesora: Rubí Isela Gutiérrez López\n",
    "- Integrantes:\n",
    "\n",
    "|Nombre | Matrícula |\n",
    "|----|----|\n",
    "| Juan Pablo Echeagaray González | A00830646 |\n",
    "| Grace Aviance Silva Aróstegui | A01285158 |\n",
    "| Ricardo de Jesús Balam Ek | A00831262 |\n",
    "| Taurino López González | A01284076 |\n",
    "| Emily Rebeca Méndez Cruz | A00830768 |\n",
    "| Eugenio Santisteban Zolezzi | A01720932 |\n",
    "\n"
   ]
  },
  {
   "cell_type": "code",
   "execution_count": 1,
   "metadata": {},
   "outputs": [],
   "source": [
    "# Dependencias\n",
    "import pandas as pd\n",
    "import numpy as np\n",
    "import matplotlib.pyplot as plt\n"
   ]
  },
  {
   "cell_type": "code",
   "execution_count": 4,
   "metadata": {},
   "outputs": [],
   "source": [
    "# Lectura de datos\n",
    "# Debe de hacerse por partes, ya que el archivo original es muy grande\n",
    "chunk_size = 10_000\n",
    "list_df = []\n",
    "\n",
    "for df in pd.read_csv('210507COVID19MEXICO.csv', chunksize=chunk_size):\n",
    "    list_df.append(df)\n",
    "\n",
    "df = pd.concat(list_df)\n"
   ]
  },
  {
   "cell_type": "code",
   "execution_count": 5,
   "metadata": {},
   "outputs": [
    {
     "data": {
      "text/plain": [
       "(6734249, 40)"
      ]
     },
     "execution_count": 5,
     "metadata": {},
     "output_type": "execute_result"
    }
   ],
   "source": [
    "df.shape\n"
   ]
  },
  {
   "cell_type": "code",
   "execution_count": 6,
   "metadata": {},
   "outputs": [
    {
     "name": "stdout",
     "output_type": "stream",
     "text": [
      "Index(['FECHA_ACTUALIZACION', 'ID_REGISTRO', 'ORIGEN', 'SECTOR', 'ENTIDAD_UM',\n",
      "       'SEXO', 'ENTIDAD_NAC', 'ENTIDAD_RES', 'MUNICIPIO_RES', 'TIPO_PACIENTE',\n",
      "       'FECHA_INGRESO', 'FECHA_SINTOMAS', 'FECHA_DEF', 'INTUBADO', 'NEUMONIA',\n",
      "       'EDAD', 'NACIONALIDAD', 'EMBARAZO', 'HABLA_LENGUA_INDIG', 'INDIGENA',\n",
      "       'DIABETES', 'EPOC', 'ASMA', 'INMUSUPR', 'HIPERTENSION', 'OTRA_COM',\n",
      "       'CARDIOVASCULAR', 'OBESIDAD', 'RENAL_CRONICA', 'TABAQUISMO',\n",
      "       'OTRO_CASO', 'TOMA_MUESTRA_LAB', 'RESULTADO_LAB',\n",
      "       'TOMA_MUESTRA_ANTIGENO', 'RESULTADO_ANTIGENO', 'CLASIFICACION_FINAL',\n",
      "       'MIGRANTE', 'PAIS_NACIONALIDAD', 'PAIS_ORIGEN', 'UCI'],\n",
      "      dtype='object')\n"
     ]
    }
   ],
   "source": [
    "print(df.columns)\n"
   ]
  },
  {
   "cell_type": "markdown",
   "metadata": {},
   "source": [
    "### Métricas de la población"
   ]
  },
  {
   "cell_type": "code",
   "execution_count": 5,
   "metadata": {},
   "outputs": [
    {
     "data": {
      "text/plain": [
       "count    6.734249e+06\n",
       "mean     4.088934e+01\n",
       "std      1.686857e+01\n",
       "min      0.000000e+00\n",
       "25%      2.800000e+01\n",
       "50%      3.900000e+01\n",
       "75%      5.200000e+01\n",
       "max      1.210000e+02\n",
       "Name: EDAD, dtype: float64"
      ]
     },
     "execution_count": 5,
     "metadata": {},
     "output_type": "execute_result"
    }
   ],
   "source": [
    "df['EDAD'].describe()\n"
   ]
  },
  {
   "cell_type": "code",
   "execution_count": 6,
   "metadata": {},
   "outputs": [
    {
     "data": {
      "text/plain": [
       "97    88.883467\n",
       "2      9.759292\n",
       "1      1.217909\n",
       "99     0.139333\n",
       "Name: INTUBADO, dtype: float64"
      ]
     },
     "execution_count": 6,
     "metadata": {},
     "output_type": "execute_result"
    }
   ],
   "source": [
    "df['INTUBADO'].value_counts() / len(df) * 100\n"
   ]
  },
  {
   "cell_type": "markdown",
   "metadata": {},
   "source": [
    "## Estadísticos de la población\n"
   ]
  },
  {
   "cell_type": "markdown",
   "metadata": {},
   "source": [
    "## Muestreos aleatorios"
   ]
  },
  {
   "cell_type": "markdown",
   "metadata": {},
   "source": [
    "### Muestreo aleatorio simple"
   ]
  },
  {
   "cell_type": "code",
   "execution_count": 7,
   "metadata": {},
   "outputs": [],
   "source": [
    "n_1, n_2 = 0.1, 0.05\n",
    "simple_sample_1 = df.sample(n=int(df.shape[0] * n_1))\n",
    "simple_sample_2 = df.sample(n=int(df.shape[0] * n_2))\n"
   ]
  },
  {
   "cell_type": "code",
   "execution_count": 8,
   "metadata": {},
   "outputs": [
    {
     "name": "stdout",
     "output_type": "stream",
     "text": [
      "\n",
      "Tamaño de la muestra 1 = 673424 ~ 10.0%\n",
      "Tamaño de la muestra 2 = 336712 ~ 5.0%\n"
     ]
    }
   ],
   "source": [
    "print(f\"\"\"\n",
    "Tamaño de la muestra 1 = {simple_sample_1.shape[0]} ~ {n_1 * 100}%\n",
    "Tamaño de la muestra 2 = {simple_sample_2.shape[0]} ~ {n_2 * 100}%\"\"\")\n"
   ]
  },
  {
   "cell_type": "markdown",
   "metadata": {},
   "source": [
    "#### Métricas"
   ]
  },
  {
   "cell_type": "code",
   "execution_count": 9,
   "metadata": {},
   "outputs": [
    {
     "data": {
      "text/plain": [
       "count    673424.000000\n",
       "mean         40.943602\n",
       "std          16.873723\n",
       "min           0.000000\n",
       "25%          28.000000\n",
       "50%          39.000000\n",
       "75%          52.000000\n",
       "max         121.000000\n",
       "Name: EDAD, dtype: float64"
      ]
     },
     "execution_count": 9,
     "metadata": {},
     "output_type": "execute_result"
    }
   ],
   "source": [
    "simple_sample_1['EDAD'].describe()\n"
   ]
  },
  {
   "cell_type": "code",
   "execution_count": 10,
   "metadata": {},
   "outputs": [
    {
     "data": {
      "text/plain": [
       "count    336712.000000\n",
       "mean         40.892668\n",
       "std          16.873728\n",
       "min           0.000000\n",
       "25%          28.000000\n",
       "50%          39.000000\n",
       "75%          52.000000\n",
       "max         120.000000\n",
       "Name: EDAD, dtype: float64"
      ]
     },
     "execution_count": 10,
     "metadata": {},
     "output_type": "execute_result"
    }
   ],
   "source": [
    "simple_sample_2['EDAD'].describe()\n"
   ]
  },
  {
   "cell_type": "code",
   "execution_count": 11,
   "metadata": {},
   "outputs": [
    {
     "data": {
      "text/plain": [
       "97    88.833484\n",
       "2      9.792642\n",
       "1      1.233398\n",
       "99     0.140476\n",
       "Name: INTUBADO, dtype: float64"
      ]
     },
     "execution_count": 11,
     "metadata": {},
     "output_type": "execute_result"
    }
   ],
   "source": [
    "simple_sample_1['INTUBADO'].value_counts() / len(simple_sample_1) * 100\n"
   ]
  },
  {
   "cell_type": "code",
   "execution_count": 12,
   "metadata": {},
   "outputs": [
    {
     "data": {
      "text/plain": [
       "97    88.840909\n",
       "2      9.803630\n",
       "1      1.216173\n",
       "99     0.139288\n",
       "Name: INTUBADO, dtype: float64"
      ]
     },
     "execution_count": 12,
     "metadata": {},
     "output_type": "execute_result"
    }
   ],
   "source": [
    "simple_sample_2['INTUBADO'].value_counts() / len(simple_sample_2) * 100\n"
   ]
  },
  {
   "cell_type": "markdown",
   "metadata": {},
   "source": [
    "### Muestro aleatorio estratificado"
   ]
  },
  {
   "cell_type": "code",
   "execution_count": 13,
   "metadata": {},
   "outputs": [],
   "source": [
    "def stratified_sample_gen(df, percent):\n",
    "    df['strata'] = np.random.choice(['1', '2'], size=df.shape[0])\n",
    "    from sklearn.model_selection import StratifiedShuffleSplit\n",
    "    \n",
    "    split = StratifiedShuffleSplit(n_splits=1, train_size=percent, random_state=0)\n",
    "    for i, j in split.split(df, df['strata']):\n",
    "        stratified_sample = df.iloc[j]\n",
    "\n",
    "    return stratified_sample\n",
    "    "
   ]
  },
  {
   "cell_type": "code",
   "execution_count": 14,
   "metadata": {},
   "outputs": [],
   "source": [
    "strat_sample_1 = stratified_sample_gen(df, 0.1)"
   ]
  },
  {
   "cell_type": "code",
   "execution_count": 15,
   "metadata": {},
   "outputs": [],
   "source": [
    "strat_sample_2 = stratified_sample_gen(df, 0.05)"
   ]
  },
  {
   "cell_type": "markdown",
   "metadata": {},
   "source": [
    "#### Una mejor aproximación, usar en otras ocasiones"
   ]
  },
  {
   "cell_type": "code",
   "execution_count": 19,
   "metadata": {},
   "outputs": [],
   "source": [
    "test_strat_sample = df.groupby('INTUBADO', group_keys=False).apply(lambda x: x.sample(10))"
   ]
  },
  {
   "cell_type": "code",
   "execution_count": 24,
   "metadata": {},
   "outputs": [],
   "source": [
    "def stratified_sample_gen(df: pd.DataFrame, key: str, n=0.1) -> pd.DataFrame:\n",
    "    if type(n) == float:\n",
    "        strat_sample = df.groupby(key, group_keys=False).apply(lambda x: x.sample(frac=n))\n",
    "    else:\n",
    "        strat_sample = df.groupby(key, group_keys=False).apply(lambda x: x.sample(n))\n",
    "        \n",
    "    return strat_sample"
   ]
  },
  {
   "cell_type": "code",
   "execution_count": 25,
   "metadata": {},
   "outputs": [],
   "source": [
    "test_strat_sample = stratified_sample_gen(df, 'INTUBADO', 10)"
   ]
  },
  {
   "cell_type": "code",
   "execution_count": 26,
   "metadata": {},
   "outputs": [
    {
     "data": {
      "text/plain": [
       "99    10\n",
       "97    10\n",
       "2     10\n",
       "1     10\n",
       "Name: INTUBADO, dtype: int64"
      ]
     },
     "execution_count": 26,
     "metadata": {},
     "output_type": "execute_result"
    }
   ],
   "source": [
    "test_strat_sample['INTUBADO'].value_counts()"
   ]
  },
  {
   "cell_type": "markdown",
   "metadata": {},
   "source": [
    "#### Métrica"
   ]
  },
  {
   "cell_type": "code",
   "execution_count": 16,
   "metadata": {},
   "outputs": [
    {
     "data": {
      "text/plain": [
       "count    6.060825e+06\n",
       "mean     4.088946e+01\n",
       "std      1.686655e+01\n",
       "min      0.000000e+00\n",
       "25%      2.800000e+01\n",
       "50%      3.900000e+01\n",
       "75%      5.200000e+01\n",
       "max      1.210000e+02\n",
       "Name: EDAD, dtype: float64"
      ]
     },
     "execution_count": 16,
     "metadata": {},
     "output_type": "execute_result"
    }
   ],
   "source": [
    "strat_sample_1['EDAD'].describe()"
   ]
  },
  {
   "cell_type": "code",
   "execution_count": 17,
   "metadata": {},
   "outputs": [
    {
     "data": {
      "text/plain": [
       "count    6.397537e+06\n",
       "mean     4.089333e+01\n",
       "std      1.686911e+01\n",
       "min      0.000000e+00\n",
       "25%      2.800000e+01\n",
       "50%      3.900000e+01\n",
       "75%      5.200000e+01\n",
       "max      1.210000e+02\n",
       "Name: EDAD, dtype: float64"
      ]
     },
     "execution_count": 17,
     "metadata": {},
     "output_type": "execute_result"
    }
   ],
   "source": [
    "strat_sample_2['EDAD'].describe()"
   ]
  },
  {
   "cell_type": "code",
   "execution_count": 18,
   "metadata": {},
   "outputs": [
    {
     "data": {
      "text/plain": [
       "97    88.884319\n",
       "2      9.758539\n",
       "1      1.218316\n",
       "99     0.138826\n",
       "Name: INTUBADO, dtype: float64"
      ]
     },
     "execution_count": 18,
     "metadata": {},
     "output_type": "execute_result"
    }
   ],
   "source": [
    "strat_sample_1['INTUBADO'].value_counts() / len(strat_sample_1) * 100"
   ]
  },
  {
   "cell_type": "code",
   "execution_count": 19,
   "metadata": {},
   "outputs": [
    {
     "data": {
      "text/plain": [
       "97    88.879283\n",
       "2      9.763210\n",
       "1      1.218656\n",
       "99     0.138850\n",
       "Name: INTUBADO, dtype: float64"
      ]
     },
     "execution_count": 19,
     "metadata": {},
     "output_type": "execute_result"
    }
   ],
   "source": [
    "strat_sample_2['INTUBADO'].value_counts() / len(strat_sample_2) * 100"
   ]
  },
  {
   "cell_type": "markdown",
   "metadata": {},
   "source": [
    "### Muestro aleatorio sistemático"
   ]
  },
  {
   "cell_type": "code",
   "execution_count": 20,
   "metadata": {},
   "outputs": [],
   "source": [
    "def systematic_sampling(df, step: int) -> pd.DataFrame:\n",
    "    i = np.arange(0, df.shape[0], step)\n",
    "    systematic_sample = df.iloc[i]\n",
    "    return systematic_sample\n",
    "    "
   ]
  },
  {
   "cell_type": "code",
   "execution_count": 21,
   "metadata": {},
   "outputs": [],
   "source": [
    "sys_sample_1 = systematic_sampling(df, step=27)\n",
    "sys_sample_2 = systematic_sampling(df, step=92)\n"
   ]
  },
  {
   "cell_type": "markdown",
   "metadata": {},
   "source": [
    "#### Métricas"
   ]
  },
  {
   "cell_type": "code",
   "execution_count": 22,
   "metadata": {},
   "outputs": [
    {
     "data": {
      "text/plain": [
       "count    249417.000000\n",
       "mean         40.865005\n",
       "std          16.844224\n",
       "min           0.000000\n",
       "25%          28.000000\n",
       "50%          39.000000\n",
       "75%          52.000000\n",
       "max         119.000000\n",
       "Name: EDAD, dtype: float64"
      ]
     },
     "execution_count": 22,
     "metadata": {},
     "output_type": "execute_result"
    }
   ],
   "source": [
    "sys_sample_1['EDAD'].describe()\n"
   ]
  },
  {
   "cell_type": "code",
   "execution_count": 23,
   "metadata": {},
   "outputs": [
    {
     "data": {
      "text/plain": [
       "count    73199.000000\n",
       "mean        40.897704\n",
       "std         16.885825\n",
       "min          0.000000\n",
       "25%         28.000000\n",
       "50%         39.000000\n",
       "75%         52.000000\n",
       "max        120.000000\n",
       "Name: EDAD, dtype: float64"
      ]
     },
     "execution_count": 23,
     "metadata": {},
     "output_type": "execute_result"
    }
   ],
   "source": [
    "sys_sample_2['EDAD'].describe()\n"
   ]
  },
  {
   "cell_type": "code",
   "execution_count": 24,
   "metadata": {},
   "outputs": [
    {
     "data": {
      "text/plain": [
       "97    88.904926\n",
       "2      9.764371\n",
       "1      1.191579\n",
       "99     0.139124\n",
       "Name: INTUBADO, dtype: float64"
      ]
     },
     "execution_count": 24,
     "metadata": {},
     "output_type": "execute_result"
    }
   ],
   "source": [
    "sys_sample_1['INTUBADO'].value_counts() / len(sys_sample_1) * 100"
   ]
  },
  {
   "cell_type": "code",
   "execution_count": 25,
   "metadata": {},
   "outputs": [
    {
     "data": {
      "text/plain": [
       "97    89.001216\n",
       "2      9.685925\n",
       "1      1.188541\n",
       "99     0.124319\n",
       "Name: INTUBADO, dtype: float64"
      ]
     },
     "execution_count": 25,
     "metadata": {},
     "output_type": "execute_result"
    }
   ],
   "source": [
    "sys_sample_2['INTUBADO'].value_counts() / len(sys_sample_2) * 100"
   ]
  },
  {
   "cell_type": "markdown",
   "metadata": {},
   "source": [
    "### Muestra por conglomerados (cluster)"
   ]
  },
  {
   "cell_type": "markdown",
   "metadata": {},
   "source": [
    "Subconjunto de personas mayores de 30 años"
   ]
  },
  {
   "cell_type": "code",
   "execution_count": 26,
   "metadata": {},
   "outputs": [],
   "source": [
    "data = df[df['EDAD'] > 30]"
   ]
  },
  {
   "cell_type": "code",
   "execution_count": 27,
   "metadata": {},
   "outputs": [],
   "source": [
    "cluster_sample_1 = data.sample(n=int(data.shape[0] * 0.1))\n",
    "cluster_sample_2 = data.sample(n=int(data.shape[0] * 0.05))"
   ]
  },
  {
   "cell_type": "markdown",
   "metadata": {},
   "source": [
    "#### Métricas"
   ]
  },
  {
   "cell_type": "code",
   "execution_count": 28,
   "metadata": {},
   "outputs": [
    {
     "data": {
      "text/plain": [
       "count    467494.000000\n",
       "mean         48.981764\n",
       "std          13.243081\n",
       "min          31.000000\n",
       "25%          38.000000\n",
       "50%          47.000000\n",
       "75%          57.000000\n",
       "max         121.000000\n",
       "Name: EDAD, dtype: float64"
      ]
     },
     "execution_count": 28,
     "metadata": {},
     "output_type": "execute_result"
    }
   ],
   "source": [
    "cluster_sample_1['EDAD'].describe()"
   ]
  },
  {
   "cell_type": "code",
   "execution_count": 29,
   "metadata": {},
   "outputs": [
    {
     "data": {
      "text/plain": [
       "count    233747.000000\n",
       "mean         48.991906\n",
       "std          13.226628\n",
       "min          31.000000\n",
       "25%          38.000000\n",
       "50%          47.000000\n",
       "75%          57.000000\n",
       "max         121.000000\n",
       "Name: EDAD, dtype: float64"
      ]
     },
     "execution_count": 29,
     "metadata": {},
     "output_type": "execute_result"
    }
   ],
   "source": [
    "cluster_sample_2['EDAD'].describe()"
   ]
  },
  {
   "cell_type": "code",
   "execution_count": 30,
   "metadata": {},
   "outputs": [
    {
     "data": {
      "text/plain": [
       "97    85.964740\n",
       "2     12.288928\n",
       "1      1.611785\n",
       "99     0.134547\n",
       "Name: INTUBADO, dtype: float64"
      ]
     },
     "execution_count": 30,
     "metadata": {},
     "output_type": "execute_result"
    }
   ],
   "source": [
    "cluster_sample_1['INTUBADO'].value_counts() / len(cluster_sample_1) * 100"
   ]
  },
  {
   "cell_type": "code",
   "execution_count": 31,
   "metadata": {},
   "outputs": [
    {
     "data": {
      "text/plain": [
       "97    85.960889\n",
       "2     12.278660\n",
       "1      1.601732\n",
       "99     0.158719\n",
       "Name: INTUBADO, dtype: float64"
      ]
     },
     "execution_count": 31,
     "metadata": {},
     "output_type": "execute_result"
    }
   ],
   "source": [
    "cluster_sample_2['INTUBADO'].value_counts() / len(cluster_sample_2) * 100"
   ]
  },
  {
   "cell_type": "markdown",
   "metadata": {},
   "source": [
    "## Muestreos no probabilísticos"
   ]
  },
  {
   "cell_type": "markdown",
   "metadata": {},
   "source": [
    "### Muestreo intencional"
   ]
  },
  {
   "cell_type": "markdown",
   "metadata": {},
   "source": [
    "Seleccionando a todos los individuos de edades entre 20 y 30 años"
   ]
  },
  {
   "cell_type": "code",
   "execution_count": 32,
   "metadata": {},
   "outputs": [],
   "source": [
    "int_sample_1 = df[(df['EDAD'] < 30) & (df['EDAD'] > 20)]"
   ]
  },
  {
   "cell_type": "markdown",
   "metadata": {},
   "source": [
    "Seleccionando a individuos mayores de 80 años"
   ]
  },
  {
   "cell_type": "code",
   "execution_count": 33,
   "metadata": {},
   "outputs": [],
   "source": [
    "int_sample_2 = df[df['EDAD'] > 85]"
   ]
  },
  {
   "cell_type": "markdown",
   "metadata": {},
   "source": [
    "#### Métricas"
   ]
  },
  {
   "cell_type": "code",
   "execution_count": 34,
   "metadata": {},
   "outputs": [
    {
     "data": {
      "text/plain": [
       "count    1.311240e+06\n",
       "mean     2.537181e+01\n",
       "std      2.500117e+00\n",
       "min      2.100000e+01\n",
       "25%      2.300000e+01\n",
       "50%      2.600000e+01\n",
       "75%      2.800000e+01\n",
       "max      2.900000e+01\n",
       "Name: EDAD, dtype: float64"
      ]
     },
     "execution_count": 34,
     "metadata": {},
     "output_type": "execute_result"
    }
   ],
   "source": [
    "int_sample_1['EDAD'].describe()"
   ]
  },
  {
   "cell_type": "code",
   "execution_count": 35,
   "metadata": {},
   "outputs": [
    {
     "data": {
      "text/plain": [
       "count    46409.000000\n",
       "mean        89.965395\n",
       "std          4.379072\n",
       "min         86.000000\n",
       "25%         87.000000\n",
       "50%         89.000000\n",
       "75%         91.000000\n",
       "max        121.000000\n",
       "Name: EDAD, dtype: float64"
      ]
     },
     "execution_count": 35,
     "metadata": {},
     "output_type": "execute_result"
    }
   ],
   "source": [
    "int_sample_2['EDAD'].describe()"
   ]
  },
  {
   "cell_type": "code",
   "execution_count": 36,
   "metadata": {},
   "outputs": [
    {
     "data": {
      "text/plain": [
       "97    97.188768\n",
       "2      2.602575\n",
       "1      0.155578\n",
       "99     0.053080\n",
       "Name: INTUBADO, dtype: float64"
      ]
     },
     "execution_count": 36,
     "metadata": {},
     "output_type": "execute_result"
    }
   ],
   "source": [
    "int_sample_1['INTUBADO'].value_counts() / len(int_sample_1) * 100"
   ]
  },
  {
   "cell_type": "code",
   "execution_count": 37,
   "metadata": {},
   "outputs": [
    {
     "data": {
      "text/plain": [
       "97    47.544657\n",
       "2     47.320563\n",
       "1      4.380616\n",
       "99     0.754164\n",
       "Name: INTUBADO, dtype: float64"
      ]
     },
     "execution_count": 37,
     "metadata": {},
     "output_type": "execute_result"
    }
   ],
   "source": [
    "int_sample_2['INTUBADO'].value_counts() / len(int_sample_2) * 100"
   ]
  },
  {
   "cell_type": "markdown",
   "metadata": {},
   "source": [
    "### Muestreo por conveniencia"
   ]
  },
  {
   "cell_type": "code",
   "execution_count": 38,
   "metadata": {},
   "outputs": [],
   "source": [
    "conv_sample_1 = int_sample_1[int_sample_1['INTUBADO'] == 1]\n",
    "conv_sample_2 = int_sample_2[int_sample_2['INTUBADO'] == 1]"
   ]
  },
  {
   "cell_type": "markdown",
   "metadata": {},
   "source": [
    "#### Métricas"
   ]
  },
  {
   "cell_type": "code",
   "execution_count": 39,
   "metadata": {},
   "outputs": [
    {
     "data": {
      "text/plain": [
       "count    2040.000000\n",
       "mean       25.728922\n",
       "std         2.513826\n",
       "min        21.000000\n",
       "25%        24.000000\n",
       "50%        26.000000\n",
       "75%        28.000000\n",
       "max        29.000000\n",
       "Name: EDAD, dtype: float64"
      ]
     },
     "execution_count": 39,
     "metadata": {},
     "output_type": "execute_result"
    }
   ],
   "source": [
    "conv_sample_1['EDAD'].describe()"
   ]
  },
  {
   "cell_type": "code",
   "execution_count": 40,
   "metadata": {},
   "outputs": [
    {
     "data": {
      "text/plain": [
       "count    2033.000000\n",
       "mean       89.097885\n",
       "std         3.266503\n",
       "min        86.000000\n",
       "25%        87.000000\n",
       "50%        88.000000\n",
       "75%        90.000000\n",
       "max       116.000000\n",
       "Name: EDAD, dtype: float64"
      ]
     },
     "execution_count": 40,
     "metadata": {},
     "output_type": "execute_result"
    }
   ],
   "source": [
    "conv_sample_2['EDAD'].describe()"
   ]
  },
  {
   "cell_type": "code",
   "execution_count": 41,
   "metadata": {},
   "outputs": [
    {
     "data": {
      "text/plain": [
       "1    100.0\n",
       "Name: INTUBADO, dtype: float64"
      ]
     },
     "execution_count": 41,
     "metadata": {},
     "output_type": "execute_result"
    }
   ],
   "source": [
    "conv_sample_1['INTUBADO'].value_counts() / len(conv_sample_1) * 100"
   ]
  },
  {
   "cell_type": "code",
   "execution_count": 42,
   "metadata": {},
   "outputs": [
    {
     "data": {
      "text/plain": [
       "1    100.0\n",
       "Name: INTUBADO, dtype: float64"
      ]
     },
     "execution_count": 42,
     "metadata": {},
     "output_type": "execute_result"
    }
   ],
   "source": [
    "conv_sample_2['INTUBADO'].value_counts() / len(conv_sample_2) * 100"
   ]
  },
  {
   "cell_type": "markdown",
   "metadata": {},
   "source": [
    "###"
   ]
  },
  {
   "cell_type": "markdown",
   "metadata": {},
   "source": [
    "### Muestreo accidental"
   ]
  },
  {
   "cell_type": "markdown",
   "metadata": {},
   "source": [
    "Seleccionando los primeros $n_1$ y $n_2$ para que hayan muestras del 10% y 5%"
   ]
  },
  {
   "cell_type": "code",
   "execution_count": 43,
   "metadata": {},
   "outputs": [],
   "source": [
    "n1 = int(df.shape[0] * 0.1)\n",
    "n2 = int(df.shape[0] * 0.05)\n",
    "\n",
    "acc_sample_1 = df.head(n=n1)\n",
    "acc_sample_2 = df.head(n=n2)"
   ]
  },
  {
   "cell_type": "markdown",
   "metadata": {},
   "source": [
    "#### Métricas"
   ]
  },
  {
   "cell_type": "code",
   "execution_count": 44,
   "metadata": {},
   "outputs": [
    {
     "data": {
      "text/plain": [
       "count    673424.000000\n",
       "mean         41.458423\n",
       "std          17.112849\n",
       "min           0.000000\n",
       "25%          30.000000\n",
       "50%          40.000000\n",
       "75%          52.000000\n",
       "max         121.000000\n",
       "Name: EDAD, dtype: float64"
      ]
     },
     "execution_count": 44,
     "metadata": {},
     "output_type": "execute_result"
    }
   ],
   "source": [
    "acc_sample_1['EDAD'].describe()"
   ]
  },
  {
   "cell_type": "code",
   "execution_count": 45,
   "metadata": {},
   "outputs": [
    {
     "data": {
      "text/plain": [
       "count    336712.000000\n",
       "mean         40.026524\n",
       "std          17.556302\n",
       "min           0.000000\n",
       "25%          28.000000\n",
       "50%          39.000000\n",
       "75%          51.000000\n",
       "max         121.000000\n",
       "Name: EDAD, dtype: float64"
      ]
     },
     "execution_count": 45,
     "metadata": {},
     "output_type": "execute_result"
    }
   ],
   "source": [
    "acc_sample_2['EDAD'].describe()"
   ]
  },
  {
   "cell_type": "code",
   "execution_count": 46,
   "metadata": {},
   "outputs": [
    {
     "data": {
      "text/plain": [
       "97    79.666599\n",
       "2     15.955921\n",
       "1      3.416124\n",
       "99     0.961356\n",
       "Name: INTUBADO, dtype: float64"
      ]
     },
     "execution_count": 46,
     "metadata": {},
     "output_type": "execute_result"
    }
   ],
   "source": [
    "acc_sample_1['INTUBADO'].value_counts() / len(acc_sample_1) * 100"
   ]
  },
  {
   "cell_type": "code",
   "execution_count": 47,
   "metadata": {},
   "outputs": [
    {
     "data": {
      "text/plain": [
       "97    80.540937\n",
       "2     14.918684\n",
       "1      2.856150\n",
       "99     1.684229\n",
       "Name: INTUBADO, dtype: float64"
      ]
     },
     "execution_count": 47,
     "metadata": {},
     "output_type": "execute_result"
    }
   ],
   "source": [
    "acc_sample_2['INTUBADO'].value_counts() / len(acc_sample_2) * 100"
   ]
  }
 ],
 "metadata": {
  "interpreter": {
   "hash": "a78c4be66ba3b4a897c6e596b18611fdff70693afae29e50365a94a133cff73c"
  },
  "kernelspec": {
   "display_name": "Python 3.9.7 64-bit",
   "language": "python",
   "name": "python3"
  },
  "language_info": {
   "codemirror_mode": {
    "name": "ipython",
    "version": 3
   },
   "file_extension": ".py",
   "mimetype": "text/x-python",
   "name": "python",
   "nbconvert_exporter": "python",
   "pygments_lexer": "ipython3",
   "version": "3.9.7"
  },
  "orig_nbformat": 4
 },
 "nbformat": 4,
 "nbformat_minor": 2
}
