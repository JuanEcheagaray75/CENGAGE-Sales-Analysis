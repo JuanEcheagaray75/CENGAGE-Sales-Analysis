{
 "cells": [
  {
   "cell_type": "code",
   "execution_count": 13,
   "metadata": {},
   "outputs": [],
   "source": [
    "import numpy as np\n",
    "import pandas as pd\n",
    "import matplotlib.pyplot as plt\n",
    "import seaborn as sns\n",
    "from sklearn.model_selection import train_test_split\n",
    "from sklearn.preprocessing import StandardScaler\n",
    "from sklearn.linear_model import Ridge, Lasso\n",
    "from sklearn.tree import DecisionTreeRegressor\n"
   ]
  },
  {
   "cell_type": "code",
   "execution_count": 14,
   "metadata": {},
   "outputs": [],
   "source": [
    "df = pd.read_csv('cleaned_data.csv')\n"
   ]
  },
  {
   "cell_type": "code",
   "execution_count": 15,
   "metadata": {},
   "outputs": [
    {
     "data": {
      "text/html": [
       "<div>\n",
       "<style scoped>\n",
       "    .dataframe tbody tr th:only-of-type {\n",
       "        vertical-align: middle;\n",
       "    }\n",
       "\n",
       "    .dataframe tbody tr th {\n",
       "        vertical-align: top;\n",
       "    }\n",
       "\n",
       "    .dataframe thead th {\n",
       "        text-align: right;\n",
       "    }\n",
       "</style>\n",
       "<table border=\"1\" class=\"dataframe\">\n",
       "  <thead>\n",
       "    <tr style=\"text-align: right;\">\n",
       "      <th></th>\n",
       "      <th>Country</th>\n",
       "      <th>Consultant</th>\n",
       "      <th>Opportunity ID</th>\n",
       "      <th>Account</th>\n",
       "      <th>ISBN 13</th>\n",
       "      <th>Author</th>\n",
       "      <th>Title</th>\n",
       "      <th>Probability</th>\n",
       "      <th>% de Avance</th>\n",
       "      <th>Term</th>\n",
       "      <th>...</th>\n",
       "      <th>Units</th>\n",
       "      <th>Revenue</th>\n",
       "      <th>Technology</th>\n",
       "      <th>Course Name</th>\n",
       "      <th>Edition</th>\n",
       "      <th>Course ID</th>\n",
       "      <th>Customer</th>\n",
       "      <th>Client</th>\n",
       "      <th>Log Revenue</th>\n",
       "      <th>Coded Probability</th>\n",
       "    </tr>\n",
       "  </thead>\n",
       "  <tbody>\n",
       "    <tr>\n",
       "      <th>0</th>\n",
       "      <td>Mexico</td>\n",
       "      <td>14</td>\n",
       "      <td>5255970</td>\n",
       "      <td>colegio de bachilleres de chihuahua</td>\n",
       "      <td>9.786075e+12</td>\n",
       "      <td>martinez</td>\n",
       "      <td>literatura ii</td>\n",
       "      <td>No_Aceptada</td>\n",
       "      <td>1.00</td>\n",
       "      <td>2021-08-01</td>\n",
       "      <td>...</td>\n",
       "      <td>8929</td>\n",
       "      <td>1308277.08</td>\n",
       "      <td>Copia física</td>\n",
       "      <td>literatura   cobach</td>\n",
       "      <td>1.0</td>\n",
       "      <td>1847125</td>\n",
       "      <td>Potential Customer</td>\n",
       "      <td>3705</td>\n",
       "      <td>14.084222</td>\n",
       "      <td>0.00</td>\n",
       "    </tr>\n",
       "    <tr>\n",
       "      <th>1</th>\n",
       "      <td>Mexico</td>\n",
       "      <td>10</td>\n",
       "      <td>5172372</td>\n",
       "      <td>u-erre universidad regiomontana</td>\n",
       "      <td>9.781338e+12</td>\n",
       "      <td>serway/vuille</td>\n",
       "      <td>intl iac wa fundamentos de fis ica</td>\n",
       "      <td>Closed Sale</td>\n",
       "      <td>1.00</td>\n",
       "      <td>2021-01-01</td>\n",
       "      <td>...</td>\n",
       "      <td>22</td>\n",
       "      <td>1161600.00</td>\n",
       "      <td>WebAssign</td>\n",
       "      <td>fisica 1 prepa u-erre</td>\n",
       "      <td>11.0</td>\n",
       "      <td>1905363</td>\n",
       "      <td>Potential Customer</td>\n",
       "      <td>3681</td>\n",
       "      <td>13.965309</td>\n",
       "      <td>1.00</td>\n",
       "    </tr>\n",
       "    <tr>\n",
       "      <th>2</th>\n",
       "      <td>Mexico</td>\n",
       "      <td>6</td>\n",
       "      <td>4496314</td>\n",
       "      <td>itesm campus monterrey</td>\n",
       "      <td>9.786075e+12</td>\n",
       "      <td>cengage</td>\n",
       "      <td>biblioteca digital magellan</td>\n",
       "      <td>No_Aceptada</td>\n",
       "      <td>1.00</td>\n",
       "      <td>2020-09-01</td>\n",
       "      <td>...</td>\n",
       "      <td>2</td>\n",
       "      <td>779999.95</td>\n",
       "      <td>Copia física</td>\n",
       "      <td>biblioteca digital</td>\n",
       "      <td>1.0</td>\n",
       "      <td>1873177</td>\n",
       "      <td>Potential Customer</td>\n",
       "      <td>5929</td>\n",
       "      <td>13.567049</td>\n",
       "      <td>0.00</td>\n",
       "    </tr>\n",
       "    <tr>\n",
       "      <th>3</th>\n",
       "      <td>Mexico</td>\n",
       "      <td>0</td>\n",
       "      <td>5745690</td>\n",
       "      <td>unitec campus cuitlahuac</td>\n",
       "      <td>9.786076e+12</td>\n",
       "      <td>galindo</td>\n",
       "      <td>modelos de organización</td>\n",
       "      <td>Evaluation Visit</td>\n",
       "      <td>0.75</td>\n",
       "      <td>2022-05-01</td>\n",
       "      <td>...</td>\n",
       "      <td>2000</td>\n",
       "      <td>600000.00</td>\n",
       "      <td>Copia física</td>\n",
       "      <td>estructuras organizacionales y gestión del con...</td>\n",
       "      <td>1.0</td>\n",
       "      <td>1934416</td>\n",
       "      <td>Potential Customer</td>\n",
       "      <td>2538</td>\n",
       "      <td>13.304685</td>\n",
       "      <td>0.75</td>\n",
       "    </tr>\n",
       "    <tr>\n",
       "      <th>4</th>\n",
       "      <td>Mexico</td>\n",
       "      <td>0</td>\n",
       "      <td>5745686</td>\n",
       "      <td>unitec campus cuitlahuac</td>\n",
       "      <td>9.786076e+12</td>\n",
       "      <td>galindo</td>\n",
       "      <td>modelos de organización</td>\n",
       "      <td>Evaluation Visit</td>\n",
       "      <td>0.75</td>\n",
       "      <td>2022-01-01</td>\n",
       "      <td>...</td>\n",
       "      <td>2000</td>\n",
       "      <td>600000.00</td>\n",
       "      <td>Copia física</td>\n",
       "      <td>estructuras organizacionales y gestión del con...</td>\n",
       "      <td>1.0</td>\n",
       "      <td>1934416</td>\n",
       "      <td>Potential Customer</td>\n",
       "      <td>2538</td>\n",
       "      <td>13.304685</td>\n",
       "      <td>0.75</td>\n",
       "    </tr>\n",
       "  </tbody>\n",
       "</table>\n",
       "<p>5 rows × 21 columns</p>\n",
       "</div>"
      ],
      "text/plain": [
       "  Country  Consultant  Opportunity ID                              Account  \\\n",
       "0  Mexico          14         5255970  colegio de bachilleres de chihuahua   \n",
       "1  Mexico          10         5172372      u-erre universidad regiomontana   \n",
       "2  Mexico           6         4496314               itesm campus monterrey   \n",
       "3  Mexico           0         5745690             unitec campus cuitlahuac   \n",
       "4  Mexico           0         5745686             unitec campus cuitlahuac   \n",
       "\n",
       "        ISBN 13         Author                               Title  \\\n",
       "0  9.786075e+12       martinez                       literatura ii   \n",
       "1  9.781338e+12  serway/vuille  intl iac wa fundamentos de fis ica   \n",
       "2  9.786075e+12        cengage         biblioteca digital magellan   \n",
       "3  9.786076e+12        galindo             modelos de organización   \n",
       "4  9.786076e+12        galindo             modelos de organización   \n",
       "\n",
       "        Probability  % de Avance        Term  ...  Units     Revenue  \\\n",
       "0       No_Aceptada         1.00  2021-08-01  ...   8929  1308277.08   \n",
       "1       Closed Sale         1.00  2021-01-01  ...     22  1161600.00   \n",
       "2       No_Aceptada         1.00  2020-09-01  ...      2   779999.95   \n",
       "3  Evaluation Visit         0.75  2022-05-01  ...   2000   600000.00   \n",
       "4  Evaluation Visit         0.75  2022-01-01  ...   2000   600000.00   \n",
       "\n",
       "     Technology                                        Course Name Edition  \\\n",
       "0  Copia física                                literatura   cobach     1.0   \n",
       "1     WebAssign                              fisica 1 prepa u-erre    11.0   \n",
       "2  Copia física                                 biblioteca digital     1.0   \n",
       "3  Copia física  estructuras organizacionales y gestión del con...     1.0   \n",
       "4  Copia física  estructuras organizacionales y gestión del con...     1.0   \n",
       "\n",
       "   Course ID            Customer Client  Log Revenue  Coded Probability  \n",
       "0    1847125  Potential Customer   3705    14.084222               0.00  \n",
       "1    1905363  Potential Customer   3681    13.965309               1.00  \n",
       "2    1873177  Potential Customer   5929    13.567049               0.00  \n",
       "3    1934416  Potential Customer   2538    13.304685               0.75  \n",
       "4    1934416  Potential Customer   2538    13.304685               0.75  \n",
       "\n",
       "[5 rows x 21 columns]"
      ]
     },
     "execution_count": 15,
     "metadata": {},
     "output_type": "execute_result"
    }
   ],
   "source": [
    "df.head()\n"
   ]
  },
  {
   "cell_type": "code",
   "execution_count": 16,
   "metadata": {},
   "outputs": [
    {
     "data": {
      "text/plain": [
       "Index(['Country', 'Consultant', 'Opportunity ID', 'Account', 'ISBN 13',\n",
       "       'Author', 'Title', 'Probability', '% de Avance', 'Term', 'Seats',\n",
       "       'Units', 'Revenue', 'Technology', 'Course Name', 'Edition', 'Course ID',\n",
       "       'Customer', 'Client', 'Log Revenue', 'Coded Probability'],\n",
       "      dtype='object')"
      ]
     },
     "execution_count": 16,
     "metadata": {},
     "output_type": "execute_result"
    }
   ],
   "source": [
    "df.columns"
   ]
  },
  {
   "cell_type": "markdown",
   "metadata": {},
   "source": [
    "## Selección de variables"
   ]
  },
  {
   "cell_type": "code",
   "execution_count": 17,
   "metadata": {},
   "outputs": [
    {
     "data": {
      "text/plain": [
       "Country               object\n",
       "Consultant             int64\n",
       "Opportunity ID         int64\n",
       "Account               object\n",
       "ISBN 13              float64\n",
       "Author                object\n",
       "Title                 object\n",
       "Probability           object\n",
       "% de Avance          float64\n",
       "Term                  object\n",
       "Seats                  int64\n",
       "Units                  int64\n",
       "Revenue              float64\n",
       "Technology            object\n",
       "Course Name           object\n",
       "Edition              float64\n",
       "Course ID              int64\n",
       "Customer              object\n",
       "Client                 int64\n",
       "Log Revenue          float64\n",
       "Coded Probability    float64\n",
       "dtype: object"
      ]
     },
     "execution_count": 17,
     "metadata": {},
     "output_type": "execute_result"
    }
   ],
   "source": [
    "df.dtypes"
   ]
  },
  {
   "cell_type": "code",
   "execution_count": 18,
   "metadata": {},
   "outputs": [],
   "source": [
    "test_cols = ['Consultant', 'Coded Probability', 'Edition', 'Seats']"
   ]
  },
  {
   "cell_type": "code",
   "execution_count": 19,
   "metadata": {},
   "outputs": [
    {
     "name": "stdout",
     "output_type": "stream",
     "text": [
      "Consultant: 0\n",
      "Coded Probability: 0\n",
      "Edition: 0\n",
      "Seats: 0\n"
     ]
    }
   ],
   "source": [
    "for column in test_cols:\n",
    "    print(f'{column}: {df[column].isnull().sum()}')"
   ]
  },
  {
   "cell_type": "code",
   "execution_count": 20,
   "metadata": {},
   "outputs": [
    {
     "data": {
      "text/html": [
       "<div>\n",
       "<style scoped>\n",
       "    .dataframe tbody tr th:only-of-type {\n",
       "        vertical-align: middle;\n",
       "    }\n",
       "\n",
       "    .dataframe tbody tr th {\n",
       "        vertical-align: top;\n",
       "    }\n",
       "\n",
       "    .dataframe thead th {\n",
       "        text-align: right;\n",
       "    }\n",
       "</style>\n",
       "<table border=\"1\" class=\"dataframe\">\n",
       "  <thead>\n",
       "    <tr style=\"text-align: right;\">\n",
       "      <th></th>\n",
       "      <th>Country</th>\n",
       "      <th>Consultant</th>\n",
       "      <th>Opportunity ID</th>\n",
       "      <th>Account</th>\n",
       "      <th>ISBN 13</th>\n",
       "      <th>Author</th>\n",
       "      <th>Title</th>\n",
       "      <th>Probability</th>\n",
       "      <th>% de Avance</th>\n",
       "      <th>Term</th>\n",
       "      <th>...</th>\n",
       "      <th>Units</th>\n",
       "      <th>Revenue</th>\n",
       "      <th>Technology</th>\n",
       "      <th>Course Name</th>\n",
       "      <th>Edition</th>\n",
       "      <th>Course ID</th>\n",
       "      <th>Customer</th>\n",
       "      <th>Client</th>\n",
       "      <th>Log Revenue</th>\n",
       "      <th>Coded Probability</th>\n",
       "    </tr>\n",
       "  </thead>\n",
       "  <tbody>\n",
       "  </tbody>\n",
       "</table>\n",
       "<p>0 rows × 21 columns</p>\n",
       "</div>"
      ],
      "text/plain": [
       "Empty DataFrame\n",
       "Columns: [Country, Consultant, Opportunity ID, Account, ISBN 13, Author, Title, Probability, % de Avance, Term, Seats, Units, Revenue, Technology, Course Name, Edition, Course ID, Customer, Client, Log Revenue, Coded Probability]\n",
       "Index: []\n",
       "\n",
       "[0 rows x 21 columns]"
      ]
     },
     "execution_count": 20,
     "metadata": {},
     "output_type": "execute_result"
    }
   ],
   "source": [
    "df[df['Coded Probability'].isna()]"
   ]
  },
  {
   "cell_type": "code",
   "execution_count": 21,
   "metadata": {},
   "outputs": [
    {
     "data": {
      "text/plain": [
       "array([0.  , 1.  , 0.75, 0.5 , 0.1 , 0.25])"
      ]
     },
     "execution_count": 21,
     "metadata": {},
     "output_type": "execute_result"
    }
   ],
   "source": [
    "df['Coded Probability'].unique()"
   ]
  },
  {
   "cell_type": "code",
   "execution_count": 22,
   "metadata": {},
   "outputs": [],
   "source": [
    "y = df['Log Revenue']\n",
    "X = df[test_cols]"
   ]
  },
  {
   "cell_type": "code",
   "execution_count": 25,
   "metadata": {},
   "outputs": [],
   "source": [
    "X_train, X_test, y_train, y_test = train_test_split(X, y, random_state=0)\n"
   ]
  },
  {
   "cell_type": "markdown",
   "metadata": {},
   "source": [
    "## Probando modelos"
   ]
  },
  {
   "cell_type": "code",
   "execution_count": 34,
   "metadata": {},
   "outputs": [
    {
     "data": {
      "text/plain": [
       "DecisionTreeRegressor(max_depth=16, random_state=0)"
      ]
     },
     "execution_count": 34,
     "metadata": {},
     "output_type": "execute_result"
    }
   ],
   "source": [
    "my_tree = DecisionTreeRegressor(max_depth=16, random_state=0)\n",
    "my_tree.fit(X_train, y_train)\n"
   ]
  },
  {
   "cell_type": "code",
   "execution_count": 35,
   "metadata": {},
   "outputs": [
    {
     "data": {
      "text/plain": [
       "0.5441188283564411"
      ]
     },
     "execution_count": 35,
     "metadata": {},
     "output_type": "execute_result"
    }
   ],
   "source": [
    "my_tree.score(X_test, y_test)"
   ]
  },
  {
   "cell_type": "code",
   "execution_count": null,
   "metadata": {},
   "outputs": [],
   "source": []
  }
 ],
 "metadata": {
  "interpreter": {
   "hash": "a78c4be66ba3b4a897c6e596b18611fdff70693afae29e50365a94a133cff73c"
  },
  "kernelspec": {
   "display_name": "Python 3.9.7 64-bit",
   "language": "python",
   "name": "python3"
  },
  "language_info": {
   "codemirror_mode": {
    "name": "ipython",
    "version": 3
   },
   "file_extension": ".py",
   "mimetype": "text/x-python",
   "name": "python",
   "nbconvert_exporter": "python",
   "pygments_lexer": "ipython3",
   "version": "3.9.7"
  },
  "orig_nbformat": 4
 },
 "nbformat": 4,
 "nbformat_minor": 2
}
