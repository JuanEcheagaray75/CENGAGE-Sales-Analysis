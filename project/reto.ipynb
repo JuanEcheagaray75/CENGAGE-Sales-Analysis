{
 "cells": [
  {
   "cell_type": "markdown",
   "metadata": {},
   "source": [
    "# Análisis de ventas de libros CENGAGE\n",
    "\n",
    "- Análisis de Ciencias de Datos\n",
    "- Profesores:\n",
    "  - Rubí Isela Gutiérrez López\n",
    "  - Daniel Otero Fadul\n",
    "- Equipo 4\n",
    "\n",
    "| Nombre | Matrícula |\n",
    "| ---- | ---- |\n",
    "| Juan Pablo Echeagaray González | A00830646 |\n",
    "\n",
    "Fecha: Por definir\n"
   ]
  },
  {
   "cell_type": "markdown",
   "metadata": {},
   "source": [
    "## Meta de investigación\n",
    "\n",
    "- Predecir el comportamiento de las ventas en un mundo post-pandémico"
   ]
  },
  {
   "cell_type": "code",
   "execution_count": 43,
   "metadata": {},
   "outputs": [],
   "source": [
    "# Dependencias\n",
    "import pandas as pd\n",
    "import numpy as np\n",
    "import seaborn as sns\n",
    "import matplotlib.pyplot as plt\n",
    "plt.style.use('ggplot')\n"
   ]
  },
  {
   "cell_type": "markdown",
   "metadata": {},
   "source": [
    "## Lectura de datos"
   ]
  },
  {
   "cell_type": "code",
   "execution_count": 44,
   "metadata": {},
   "outputs": [],
   "source": [
    "df = pd.read_csv('datos-reto.csv')\n",
    "# La primera columna es un índice, no se necesita mantener\n",
    "df.drop(df.columns[[0]], axis=1, inplace=True)\n"
   ]
  },
  {
   "cell_type": "markdown",
   "metadata": {},
   "source": [
    "## Preprocesamiento de datos"
   ]
  },
  {
   "cell_type": "code",
   "execution_count": 45,
   "metadata": {},
   "outputs": [
    {
     "data": {
      "text/html": [
       "<div>\n",
       "<style scoped>\n",
       "    .dataframe tbody tr th:only-of-type {\n",
       "        vertical-align: middle;\n",
       "    }\n",
       "\n",
       "    .dataframe tbody tr th {\n",
       "        vertical-align: top;\n",
       "    }\n",
       "\n",
       "    .dataframe thead th {\n",
       "        text-align: right;\n",
       "    }\n",
       "</style>\n",
       "<table border=\"1\" class=\"dataframe\">\n",
       "  <thead>\n",
       "    <tr style=\"text-align: right;\">\n",
       "      <th></th>\n",
       "      <th>Country</th>\n",
       "      <th>Consultant</th>\n",
       "      <th>Opportunity ID</th>\n",
       "      <th>Account</th>\n",
       "      <th>ISBN 13</th>\n",
       "      <th>Author</th>\n",
       "      <th>Title</th>\n",
       "      <th>Probability</th>\n",
       "      <th>% de Avance</th>\n",
       "      <th>Term</th>\n",
       "      <th>...</th>\n",
       "      <th>Adjusted Revenue</th>\n",
       "      <th>Technology</th>\n",
       "      <th>Course Name</th>\n",
       "      <th>Edition</th>\n",
       "      <th>Course ID</th>\n",
       "      <th># of Courses</th>\n",
       "      <th>Customer</th>\n",
       "      <th>Client</th>\n",
       "      <th>Unlimited Flag</th>\n",
       "      <th>Implementation Id</th>\n",
       "    </tr>\n",
       "  </thead>\n",
       "  <tbody>\n",
       "    <tr>\n",
       "      <th>0</th>\n",
       "      <td>Mexico</td>\n",
       "      <td>14</td>\n",
       "      <td>5255970</td>\n",
       "      <td>COLEGIO DE BACHILLERES DE CHIHUAHUA</td>\n",
       "      <td>9.786075e+12</td>\n",
       "      <td>Martinez</td>\n",
       "      <td>Literatura II</td>\n",
       "      <td>No_Aceptada</td>\n",
       "      <td>0</td>\n",
       "      <td>Aug-21</td>\n",
       "      <td>...</td>\n",
       "      <td>0</td>\n",
       "      <td>NaN</td>\n",
       "      <td>LITERATURA   COBACH</td>\n",
       "      <td>1.0</td>\n",
       "      <td>1847125</td>\n",
       "      <td>NaN</td>\n",
       "      <td>Potential Customer</td>\n",
       "      <td>3705</td>\n",
       "      <td>NaN</td>\n",
       "      <td>NaN</td>\n",
       "    </tr>\n",
       "    <tr>\n",
       "      <th>1</th>\n",
       "      <td>Mexico</td>\n",
       "      <td>10</td>\n",
       "      <td>5172372</td>\n",
       "      <td>U-ERRE UNIVERSIDAD REGIOMONTANA</td>\n",
       "      <td>9.781338e+12</td>\n",
       "      <td>Serway/Vuille</td>\n",
       "      <td>INTL IAC WA FUNDAMENTOS DE FIS ICA</td>\n",
       "      <td>Closed Sale</td>\n",
       "      <td>1</td>\n",
       "      <td>Jan-21</td>\n",
       "      <td>...</td>\n",
       "      <td>0</td>\n",
       "      <td>WebAssign</td>\n",
       "      <td>FISICA 1 PREPA U-ERRE</td>\n",
       "      <td>11.0</td>\n",
       "      <td>1905363</td>\n",
       "      <td>NaN</td>\n",
       "      <td>Potential Customer</td>\n",
       "      <td>3681</td>\n",
       "      <td>NaN</td>\n",
       "      <td>NaN</td>\n",
       "    </tr>\n",
       "    <tr>\n",
       "      <th>2</th>\n",
       "      <td>Mexico</td>\n",
       "      <td>6</td>\n",
       "      <td>4496314</td>\n",
       "      <td>ITESM CAMPUS MONTERREY</td>\n",
       "      <td>9.786075e+12</td>\n",
       "      <td>CENGAGE</td>\n",
       "      <td>BIBLIOTECA DIGITAL MAGELLAN</td>\n",
       "      <td>No_Aceptada</td>\n",
       "      <td>0</td>\n",
       "      <td>Sep-20</td>\n",
       "      <td>...</td>\n",
       "      <td>0</td>\n",
       "      <td>NaN</td>\n",
       "      <td>BIBLIOTECA DIGITAL</td>\n",
       "      <td>1.0</td>\n",
       "      <td>1873177</td>\n",
       "      <td>NaN</td>\n",
       "      <td>Potential Customer</td>\n",
       "      <td>5929</td>\n",
       "      <td>NaN</td>\n",
       "      <td>NaN</td>\n",
       "    </tr>\n",
       "    <tr>\n",
       "      <th>3</th>\n",
       "      <td>Mexico</td>\n",
       "      <td>0</td>\n",
       "      <td>5745690</td>\n",
       "      <td>UNITEC CAMPUS CUITLAHUAC</td>\n",
       "      <td>9.786076e+12</td>\n",
       "      <td>GALINDO</td>\n",
       "      <td>MODELOS DE ORGANIZACIÓN</td>\n",
       "      <td>Evaluation Visit</td>\n",
       "      <td>0.75</td>\n",
       "      <td>May-22</td>\n",
       "      <td>...</td>\n",
       "      <td>0</td>\n",
       "      <td>NaN</td>\n",
       "      <td>Estructuras organizacionales y gestión del con...</td>\n",
       "      <td>1.0</td>\n",
       "      <td>1934416</td>\n",
       "      <td>NaN</td>\n",
       "      <td>Potential Customer</td>\n",
       "      <td>2538</td>\n",
       "      <td>NaN</td>\n",
       "      <td>NaN</td>\n",
       "    </tr>\n",
       "    <tr>\n",
       "      <th>4</th>\n",
       "      <td>Mexico</td>\n",
       "      <td>0</td>\n",
       "      <td>5745686</td>\n",
       "      <td>UNITEC CAMPUS CUITLAHUAC</td>\n",
       "      <td>9.786076e+12</td>\n",
       "      <td>GALINDO</td>\n",
       "      <td>MODELOS DE ORGANIZACIÓN</td>\n",
       "      <td>Evaluation Visit</td>\n",
       "      <td>0.75</td>\n",
       "      <td>Jan-22</td>\n",
       "      <td>...</td>\n",
       "      <td>0</td>\n",
       "      <td>NaN</td>\n",
       "      <td>Estructuras organizacionales y gestión del con...</td>\n",
       "      <td>1.0</td>\n",
       "      <td>1934416</td>\n",
       "      <td>NaN</td>\n",
       "      <td>Potential Customer</td>\n",
       "      <td>2538</td>\n",
       "      <td>NaN</td>\n",
       "      <td>NaN</td>\n",
       "    </tr>\n",
       "  </tbody>\n",
       "</table>\n",
       "<p>5 rows × 24 columns</p>\n",
       "</div>"
      ],
      "text/plain": [
       "  Country  Consultant  Opportunity ID                              Account  \\\n",
       "0  Mexico          14         5255970  COLEGIO DE BACHILLERES DE CHIHUAHUA   \n",
       "1  Mexico          10         5172372      U-ERRE UNIVERSIDAD REGIOMONTANA   \n",
       "2  Mexico           6         4496314               ITESM CAMPUS MONTERREY   \n",
       "3  Mexico           0         5745690             UNITEC CAMPUS CUITLAHUAC   \n",
       "4  Mexico           0         5745686             UNITEC CAMPUS CUITLAHUAC   \n",
       "\n",
       "        ISBN 13         Author                               Title  \\\n",
       "0  9.786075e+12       Martinez                       Literatura II   \n",
       "1  9.781338e+12  Serway/Vuille  INTL IAC WA FUNDAMENTOS DE FIS ICA   \n",
       "2  9.786075e+12        CENGAGE         BIBLIOTECA DIGITAL MAGELLAN   \n",
       "3  9.786076e+12        GALINDO             MODELOS DE ORGANIZACIÓN   \n",
       "4  9.786076e+12        GALINDO             MODELOS DE ORGANIZACIÓN   \n",
       "\n",
       "        Probability % de Avance     Term  ...  Adjusted Revenue  Technology  \\\n",
       "0       No_Aceptada            0  Aug-21  ...                 0         NaN   \n",
       "1       Closed Sale            1  Jan-21  ...                 0   WebAssign   \n",
       "2       No_Aceptada            0  Sep-20  ...                 0         NaN   \n",
       "3  Evaluation Visit         0.75  May-22  ...                 0         NaN   \n",
       "4  Evaluation Visit         0.75  Jan-22  ...                 0         NaN   \n",
       "\n",
       "                                         Course Name  Edition  Course ID  \\\n",
       "0                                LITERATURA   COBACH      1.0    1847125   \n",
       "1                              FISICA 1 PREPA U-ERRE     11.0    1905363   \n",
       "2                                 BIBLIOTECA DIGITAL      1.0    1873177   \n",
       "3  Estructuras organizacionales y gestión del con...      1.0    1934416   \n",
       "4  Estructuras organizacionales y gestión del con...      1.0    1934416   \n",
       "\n",
       "  # of Courses            Customer  Client  Unlimited Flag  Implementation Id  \n",
       "0          NaN  Potential Customer    3705             NaN                NaN  \n",
       "1          NaN  Potential Customer    3681             NaN                NaN  \n",
       "2          NaN  Potential Customer    5929             NaN                NaN  \n",
       "3          NaN  Potential Customer    2538             NaN                NaN  \n",
       "4          NaN  Potential Customer    2538             NaN                NaN  \n",
       "\n",
       "[5 rows x 24 columns]"
      ]
     },
     "execution_count": 45,
     "metadata": {},
     "output_type": "execute_result"
    }
   ],
   "source": [
    "df.head()\n"
   ]
  },
  {
   "cell_type": "code",
   "execution_count": 46,
   "metadata": {},
   "outputs": [
    {
     "data": {
      "text/plain": [
       "Index(['Country', 'Consultant', 'Opportunity ID', 'Account', 'ISBN 13',\n",
       "       'Author', 'Title', 'Probability', '% de Avance ', 'Term',\n",
       "       'New Course Takeaway Units', 'Seats', 'Units', 'Revenue',\n",
       "       'Adjusted Revenue', 'Technology', 'Course Name', 'Edition', 'Course ID',\n",
       "       '# of Courses', 'Customer', 'Client', 'Unlimited Flag',\n",
       "       'Implementation Id'],\n",
       "      dtype='object')"
      ]
     },
     "execution_count": 46,
     "metadata": {},
     "output_type": "execute_result"
    }
   ],
   "source": [
    "df.columns\n"
   ]
  },
  {
   "cell_type": "code",
   "execution_count": 47,
   "metadata": {},
   "outputs": [
    {
     "data": {
      "text/plain": [
       "Country                       object\n",
       "Consultant                     int64\n",
       "Opportunity ID                 int64\n",
       "Account                       object\n",
       "ISBN 13                      float64\n",
       "Author                        object\n",
       "Title                         object\n",
       "Probability                   object\n",
       "% de Avance                   object\n",
       "Term                          object\n",
       "New Course Takeaway Units    float64\n",
       "Seats                          int64\n",
       "Units                          int64\n",
       "Revenue                      float64\n",
       "Adjusted Revenue               int64\n",
       "Technology                    object\n",
       "Course Name                   object\n",
       "Edition                      float64\n",
       "Course ID                      int64\n",
       "# of Courses                 float64\n",
       "Customer                      object\n",
       "Client                         int64\n",
       "Unlimited Flag               float64\n",
       "Implementation Id            float64\n",
       "dtype: object"
      ]
     },
     "execution_count": 47,
     "metadata": {},
     "output_type": "execute_result"
    }
   ],
   "source": [
    "df.dtypes\n"
   ]
  },
  {
   "cell_type": "code",
   "execution_count": 48,
   "metadata": {},
   "outputs": [
    {
     "data": {
      "text/plain": [
       "array(['Aug-21', 'Jan-21', 'Sep-20', 'May-22', 'Jan-22', 'Nov-20',\n",
       "       'Aug-20', 'Aug-22', 'Mar-22', 'Sep-22', 'Dec-20', 'Feb-21',\n",
       "       'Feb-22', 'Dec-21', 'Mar-21', 'Sep-21', 'Nov-22', 'Dec-22',\n",
       "       'Nov-21', 'Jul-20', 'Apr-21', 'Jul-22', 'May-21', 'Jul-21',\n",
       "       'Jun-22', 'Oct-20', 'Apr-22', 'Jun-20', 'Jun-21', 'Oct-21',\n",
       "       'Oct-22'], dtype=object)"
      ]
     },
     "execution_count": 48,
     "metadata": {},
     "output_type": "execute_result"
    }
   ],
   "source": [
    "df['Term'].unique()"
   ]
  },
  {
   "cell_type": "code",
   "execution_count": 49,
   "metadata": {},
   "outputs": [
    {
     "data": {
      "text/plain": [
       "0.12488938942965168"
      ]
     },
     "execution_count": 49,
     "metadata": {},
     "output_type": "execute_result"
    }
   ],
   "source": [
    "df.Technology.value_counts().sum() / df.shape[0]"
   ]
  },
  {
   "cell_type": "markdown",
   "metadata": {},
   "source": [
    "Solamente el 12% de los datos cuentan con una tecnología asociada. Deberíamos de mantener esta columna? Remplazarlos con algo que represente libros tradicionales"
   ]
  },
  {
   "cell_type": "code",
   "execution_count": 50,
   "metadata": {},
   "outputs": [
    {
     "data": {
      "text/plain": [
       "Closed Sale            5366\n",
       "Muestra                4548\n",
       "Base_Vendida           3877\n",
       "No_Aceptada            2165\n",
       "Base_Confirmada        2099\n",
       "Interview              2097\n",
       "Base_Por_Confirmar     1958\n",
       "Evaluation Visit       1194\n",
       "Identified Prospect    1100\n",
       "Base_Perdida            363\n",
       "Vendida                  60\n",
       "Custom Adoption          29\n",
       "At Risk                   6\n",
       "Name: Probability, dtype: int64"
      ]
     },
     "execution_count": 50,
     "metadata": {},
     "output_type": "execute_result"
    }
   ],
   "source": [
    "df.Probability.value_counts()"
   ]
  },
  {
   "cell_type": "markdown",
   "metadata": {},
   "source": [
    "¿Cómo mapear esta variable categórica? Hay niveles de jerarquía asociados? Se necesita ver de nuevo la reunión con el socio formador"
   ]
  },
  {
   "cell_type": "markdown",
   "metadata": {},
   "source": [
    "### Remover columnas con valores NaN"
   ]
  },
  {
   "cell_type": "markdown",
   "metadata": {},
   "source": [
    "Hay que investigar primero de qué están compuestas estas columnas. Si encontramos algunas con una proporción de valores nulos mayor a cierta tolerancia, no deberíamos de usarlas para la creación de un modelo predictivo"
   ]
  },
  {
   "cell_type": "code",
   "execution_count": 51,
   "metadata": {},
   "outputs": [],
   "source": [
    "# Completamente arbitrario (yo pensaría que >50% sería mejor)\n",
    "tresh = 0.7\n",
    "nan_props = []\n",
    "for col in df.columns:\n",
    "    nan_props.append(df[col].isnull().sum() / len(df))\n",
    "    "
   ]
  },
  {
   "cell_type": "code",
   "execution_count": 52,
   "metadata": {},
   "outputs": [
    {
     "data": {
      "image/png": "[encoded data removed]",
      "text/plain": [
       "<Figure size 720x432 with 1 Axes>"
      ]
     },
     "metadata": {},
     "output_type": "display_data"
    }
   ],
   "source": [
    "plt.figure(figsize=(10, 6))\n",
    "ax = sns.barplot(x=df.columns, y=nan_props)\n",
    "ax.set_title('Proporción de valores nulos por columna')\n",
    "ticks = ax.set_xticklabels(ax.get_xticklabels(), rotation=90)\n"
   ]
  },
  {
   "cell_type": "markdown",
   "metadata": {},
   "source": []
  },
  {
   "cell_type": "markdown",
   "metadata": {},
   "source": [
    "5 de las 24 columnas de la base de datos tienen al menos un 80% de sus entradas con valores nulos, no podemos usarlas para generar un modelo predictivo."
   ]
  },
  {
   "cell_type": "code",
   "execution_count": 53,
   "metadata": {},
   "outputs": [],
   "source": [
    "# Remover todas las columnas con un porcentaje de nulos mayor al treshold\n",
    "old_cols = df.columns\n",
    "df.dropna(axis=1, thresh=tresh * df.shape[0], inplace=True)\n",
    "new_cols = df.columns\n"
   ]
  },
  {
   "cell_type": "code",
   "execution_count": 54,
   "metadata": {},
   "outputs": [
    {
     "data": {
      "text/plain": [
       "Index(['# of Courses', 'Implementation Id', 'New Course Takeaway Units',\n",
       "       'Technology', 'Unlimited Flag'],\n",
       "      dtype='object')"
      ]
     },
     "execution_count": 54,
     "metadata": {},
     "output_type": "execute_result"
    }
   ],
   "source": [
    "old_cols.difference(new_cols)\n"
   ]
  },
  {
   "cell_type": "markdown",
   "metadata": {},
   "source": [
    "Al final de este paso de limpieza hemos removido las anteriores columnas, ya que estaban compuestas de al menos un **70%** de valores NaN"
   ]
  },
  {
   "cell_type": "markdown",
   "metadata": {},
   "source": [
    "### Conversión de `term` a formato `datetime`"
   ]
  },
  {
   "cell_type": "markdown",
   "metadata": {},
   "source": [
    "Esta conversión facilitará la agregación y visualización de estos datos cuando entremos a la fase del análisis exploratorio de datos."
   ]
  },
  {
   "cell_type": "code",
   "execution_count": 55,
   "metadata": {},
   "outputs": [],
   "source": [
    "# Convertir a formato datetime la columna 'term'\n",
    "df['Term'] = pd.to_datetime(df['Term'], format='%b-%y')\n"
   ]
  },
  {
   "cell_type": "markdown",
   "metadata": {},
   "source": [
    "### Creación de _dummy variables_"
   ]
  },
  {
   "cell_type": "code",
   "execution_count": null,
   "metadata": {},
   "outputs": [],
   "source": []
  },
  {
   "cell_type": "markdown",
   "metadata": {},
   "source": [
    "## Exploratory Data Analysis"
   ]
  },
  {
   "cell_type": "code",
   "execution_count": 56,
   "metadata": {},
   "outputs": [
    {
     "data": {
      "text/plain": [
       "count    24862.0\n",
       "mean         0.0\n",
       "std          0.0\n",
       "min          0.0\n",
       "25%          0.0\n",
       "50%          0.0\n",
       "75%          0.0\n",
       "max          0.0\n",
       "Name: Adjusted Revenue, dtype: float64"
      ]
     },
     "execution_count": 56,
     "metadata": {},
     "output_type": "execute_result"
    }
   ],
   "source": [
    "df['Adjusted Revenue'].describe()\n"
   ]
  },
  {
   "cell_type": "markdown",
   "metadata": {},
   "source": [
    "No podemos usar esta columna tal cual. Tal vez habría que ver con el socio formador si es que estos datos faltan; en caso de que sí, es casi imposible que nos regresen estos datos antes de que tengamos el tiempo encima"
   ]
  },
  {
   "cell_type": "code",
   "execution_count": 57,
   "metadata": {},
   "outputs": [],
   "source": [
    "df.drop(['Adjusted Revenue'], axis=1, inplace=True)"
   ]
  },
  {
   "cell_type": "markdown",
   "metadata": {},
   "source": [
    "### Investigando a los consultores"
   ]
  },
  {
   "cell_type": "code",
   "execution_count": 58,
   "metadata": {},
   "outputs": [
    {
     "data": {
      "image/png": "[encoded data removed]",
      "text/plain": [
       "<Figure size 720x432 with 1 Axes>"
      ]
     },
     "metadata": {},
     "output_type": "display_data"
    }
   ],
   "source": [
    "plt.figure(figsize=(10, 6))\n",
    "ax = sns.boxplot(x='Consultant', y='Revenue', data=df)\n"
   ]
  },
  {
   "cell_type": "code",
   "execution_count": 59,
   "metadata": {},
   "outputs": [
    {
     "data": {
      "image/png": "[encoded data removed]",
      "text/plain": [
       "<Figure size 720x432 with 1 Axes>"
      ]
     },
     "metadata": {},
     "output_type": "display_data"
    }
   ],
   "source": [
    "plt.figure(figsize=(10, 6))\n",
    "agg_revenue = df.groupby('Consultant').sum()['Revenue']\n",
    "ax = sns.barplot(x=agg_revenue.index, y=agg_revenue)\n",
    "ax.set_title('Revenue agregado por Consultant');\n"
   ]
  },
  {
   "cell_type": "code",
   "execution_count": 60,
   "metadata": {},
   "outputs": [
    {
     "data": {
      "image/png": "[encoded data removed]",
      "text/plain": [
       "<Figure size 720x432 with 1 Axes>"
      ]
     },
     "metadata": {},
     "output_type": "display_data"
    }
   ],
   "source": [
    "# Número de operaciones por consultant\n",
    "plt.figure(figsize=(10, 6))\n",
    "agg_ops = df['Consultant'].value_counts().sort_index()\n",
    "ax = sns.barplot(x=agg_ops.index, y=agg_ops)\n",
    "ax.set_title('Número de ventas por Consultant');\n",
    "ax.set_ylabel('# Ventas');\n",
    "ax.set_xlabel('Consultant');\n"
   ]
  },
  {
   "cell_type": "code",
   "execution_count": 61,
   "metadata": {},
   "outputs": [
    {
     "data": {
      "image/png": "[encoded data removed]",
      "text/plain": [
       "<Figure size 720x432 with 1 Axes>"
      ]
     },
     "metadata": {},
     "output_type": "display_data"
    }
   ],
   "source": [
    "# Efectividad de los consultant? Revenue agregado / # operaciones\n",
    "plt.figure(figsize=(10, 6))\n",
    "effectiveness = agg_revenue / agg_ops\n",
    "ax = sns.barplot(x=agg_ops.index, y=effectiveness);\n",
    "ax.set_title('Efectividad de los Consultant')\n",
    "ax.set_ylabel(' Rev. agg / # Ventas')\n",
    "ax.set_xlabel('Consultant');\n"
   ]
  },
  {
   "cell_type": "markdown",
   "metadata": {},
   "source": [
    "El caso del consultor 2 tal vez debería de ser analizado con más cuidado, ha tenido ventas con un revenue no tan grande, pero solo ha tenido 2 ventas durante todo el periodo de registro de la base de datos"
   ]
  },
  {
   "cell_type": "code",
   "execution_count": 62,
   "metadata": {},
   "outputs": [
    {
     "data": {
      "text/plain": [
       "2"
      ]
     },
     "execution_count": 62,
     "metadata": {},
     "output_type": "execute_result"
    }
   ],
   "source": [
    "# Hacer que esto analice el consultant con mayor efectividad?\n",
    "consultant = 2\n",
    "df.Consultant.value_counts().sort_index()[consultant]\n"
   ]
  },
  {
   "cell_type": "code",
   "execution_count": null,
   "metadata": {},
   "outputs": [],
   "source": []
  }
 ],
 "metadata": {
  "interpreter": {
   "hash": "a78c4be66ba3b4a897c6e596b18611fdff70693afae29e50365a94a133cff73c"
  },
  "kernelspec": {
   "display_name": "Python 3.9.7 64-bit",
   "language": "python",
   "name": "python3"
  },
  "language_info": {
   "codemirror_mode": {
    "name": "ipython",
    "version": 3
   },
   "file_extension": ".py",
   "mimetype": "text/x-python",
   "name": "python",
   "nbconvert_exporter": "python",
   "pygments_lexer": "ipython3",
   "version": "3.9.7"
  },
  "orig_nbformat": 4
 },
 "nbformat": 4,
 "nbformat_minor": 2
}
